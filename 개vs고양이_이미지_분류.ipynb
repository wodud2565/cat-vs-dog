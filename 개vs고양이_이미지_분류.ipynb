{
  "cells": [
    {
      "cell_type": "code",
      "execution_count": null,
      "metadata": {
        "id": "hyrN9qYmv-0b"
      },
      "outputs": [],
      "source": [
        "# Keras 라이브러리 및 패키지를 가져옵니다.\n",
        "from keras.models import Sequential\n",
        "from keras.layers import Conv2D\n",
        "from keras.layers import MaxPooling2D\n",
        "from keras.layers import Flatten\n",
        "from keras.layers import Dense\n",
        "import matplotlib.pyplot as plt  # 시각화를 위한 라이브러리를 가져옵니다."
      ]
    },
    {
      "cell_type": "code",
      "execution_count": null,
      "metadata": {
        "id": "a7Cyq56xwJoe"
      },
      "outputs": [],
      "source": [
        "# 1. Convolutional Neural Network(CNN) 초기화\n",
        "classifier = Sequential()"
      ]
    },
    {
      "cell_type": "code",
      "execution_count": null,
      "metadata": {
        "id": "2GMYLZKhwLc2"
      },
      "outputs": [],
      "source": [
        "# 2. 첫 번째 합성곱 층 및 풀링 층 추가\n",
        "classifier.add(Conv2D(32, (3, 3), input_shape=(64, 64, 3), activation='relu'))\n",
        "classifier.add(MaxPooling2D(pool_size=(2, 2)))"
      ]
    },
    {
      "cell_type": "code",
      "execution_count": null,
      "metadata": {
        "id": "6rCKcWGvwMAL"
      },
      "outputs": [],
      "source": [
        "# 3. 두 번째 합성곱 층 추가\n",
        "classifier.add(Conv2D(32, (3, 3), activation='relu'))\n",
        "classifier.add(MaxPooling2D(pool_size=(2, 2)))"
      ]
    },
    {
      "cell_type": "code",
      "execution_count": null,
      "metadata": {
        "id": "19odjoXqwOY7"
      },
      "outputs": [],
      "source": [
        "# 4. 이미지를 1D 벡터로 변환(Flatten)\n",
        "classifier.add(Flatten())"
      ]
    },
    {
      "cell_type": "code",
      "execution_count": null,
      "metadata": {
        "id": "O4QWw1VpwOcv"
      },
      "outputs": [],
      "source": [
        "# 5. 전체 연결 신경망 추가\n",
        "classifier.add(Dense(units=128, activation='relu'))\n",
        "classifier.add(Dense(units=1, activation='sigmoid'))"
      ]
    },
    {
      "cell_type": "code",
      "execution_count": null,
      "metadata": {
        "id": "VCDHUqHLwOfn"
      },
      "outputs": [],
      "source": [
        "# 6. CNN 모델 컴파일\n",
        "classifier.compile(optimizer='adam', loss='binary_crossentropy', metrics=['accuracy'])"
      ]
    },
    {
      "cell_type": "code",
      "execution_count": null,
      "metadata": {
        "colab": {
          "base_uri": "https://localhost:8080/"
        },
        "id": "Ai1_ZPOi4UNw",
        "outputId": "37114b29-d2c9-4ece-a294-4ebd56908d38"
      },
      "outputs": [],
      "source": [
        "#7. 훈련 및 검증 데이터셋 다운로드 및 압축 풀기  //개와 고양이 각자, 훈련용 데이터셋:4000개, 검증 데이터셋:1000개\n",
        "!unzip /content/drive/\"MyDrive\"/dataset/cat_dog.zip -d /content/drive/\"My Drive\"/dataset/"
      ]
    },
    {
      "cell_type": "code",
      "execution_count": null,
      "metadata": {
        "id": "0wl91Vz2n4QK"
      },
      "outputs": [],
      "source": [
        "#8. 이미지 데이터 제너레이터 설정\n",
        "from keras.preprocessing.image import ImageDataGenerator\n",
        "\n",
        "# 훈련 데이터에 대한 이미지 데이터 제너레이터 설정\n",
        "train_datagen = ImageDataGenerator(\n",
        "    rescale=1./255,          # 이미지 픽셀 값을 0과 1 사이로 스케일 조정\n",
        "    shear_range=0.2,         # 전단 변환 적용 범위\n",
        "    zoom_range=0.2,          # 확대/축소 범위\n",
        "    horizontal_flip=True     # 수평으로 뒤집기\n",
        ")\n",
        "\n",
        "# 테스트 데이터에 대한 이미지 데이터 제너레이터 설정\n",
        "test_datagen = ImageDataGenerator(rescale=1./255)  # 이미지 픽셀 값을 0과 1 사이로 스케일 조정\n"
      ]
    },
    {
      "cell_type": "code",
      "execution_count": null,
      "metadata": {
        "colab": {
          "base_uri": "https://localhost:8080/"
        },
        "id": "FSd5wK7UnsDZ",
        "outputId": "e0c39db1-a460-4114-db44-836e94f334a2"
      },
      "outputs": [],
      "source": [
        "#9. 훈련 및 검증 데이터셋 로드\n",
        "\n",
        "# 훈련 데이터셋 로드\n",
        "training_set = train_datagen.flow_from_directory(\n",
        "    '/content/drive/MyDrive/dataset/cat_dog/training_set',  # 훈련 데이터셋 디렉토리 경로\n",
        "    target_size=(64, 64),  # 이미지 크기를 (64, 64)로 조정\n",
        "    batch_size=32,         # 배치 크기\n",
        "    class_mode='binary'    # 이진 분류 (개 또는 고양이)\n",
        ")\n",
        "\n",
        "# 검증 데이터셋 로드\n",
        "test_set = test_datagen.flow_from_directory(\n",
        "    '/content/drive/MyDrive/dataset/cat_dog/test_set',      # 검증 데이터셋 디렉토리 경로\n",
        "    target_size=(64, 64),  # 이미지 크기를 (64, 64)로 조정\n",
        "    batch_size=32,         # 배치 크기\n",
        "    class_mode='binary'    # 이진 분류 (개 또는 고양이)\n",
        ")\n"
      ]
    },
    {
      "cell_type": "code",
      "execution_count": null,
      "metadata": {
        "colab": {
          "base_uri": "https://localhost:8080/"
        },
        "id": "rAculA8dnsjJ",
        "outputId": "053c5f71-2475-4aa0-dceb-6032da7773ea"
      },
      "outputs": [],
      "source": [
        "#10. 모델 훈련\n",
        "history = classifier.fit(\n",
        "    training_set,\n",
        "    steps_per_epoch=len(training_set),  # 훈련 데이터셋 크기에 맞게 설정\n",
        "    epochs=32,                          # 에폭 수 32\n",
        "    validation_data=test_set,\n",
        "    validation_steps=len(test_set)      # 검증 데이터셋 크기에 맞게 설정\n",
        ")\n"
      ]
    },
    {
      "cell_type": "code",
      "execution_count": null,
      "metadata": {
        "colab": {
          "base_uri": "https://localhost:8080/",
          "height": 881
        },
        "id": "b8ihtgjxnq1K",
        "outputId": "5549f60f-bda1-4bfa-8369-004257973971"
      },
      "outputs": [],
      "source": [
        "#11. 정확도 및 손실 그래프 출력\n",
        "\n",
        "# 정확도 그래프\n",
        "plt.plot(history.history['accuracy'], label='훈련 정확도')\n",
        "plt.plot(history.history['val_accuracy'], label='검증 정확도')\n",
        "plt.xlabel('에폭')\n",
        "plt.ylabel('정확도')\n",
        "plt.legend()\n",
        "plt.show()\n",
        "\n",
        "# 손실 그래프\n",
        "plt.plot(history.history['loss'], label='훈련 손실')\n",
        "plt.plot(history.history['val_loss'], label='검증 손실')\n",
        "plt.xlabel('에폭')\n",
        "plt.ylabel('손실')\n",
        "plt.legend()\n",
        "plt.show()\n"
      ]
    },
    {
      "cell_type": "code",
      "execution_count": null,
      "metadata": {
        "colab": {
          "base_uri": "https://localhost:8080/"
        },
        "id": "_bqQguKkXWr5",
        "outputId": "985d51d0-2308-43cf-ccdf-55f2354ece4a"
      },
      "outputs": [],
      "source": [
        "#12. 사용자가 제공할 이미지 다운로드 및 압축풀기\n",
        "!unzip /content/drive/\"MyDrive\"/dataset/mydog.zip -d /content/drive/\"My Drive\"/dataset/"
      ]
    },
    {
      "cell_type": "code",
      "execution_count": null,
      "metadata": {
        "colab": {
          "base_uri": "https://localhost:8080/",
          "height": 649
        },
        "id": "Zum_V0KC7Oy3",
        "outputId": "c41c1e55-a784-4fec-cff7-4b090cb836cb"
      },
      "outputs": [],
      "source": [
        "# FIN\n",
        "from PIL import Image\n",
        "import numpy as np\n",
        "import matplotlib.pyplot as plt\n",
        "\n",
        "# 사용자가 제공한 이미지 파일 경로를 지정합니다.\n",
        "image_path = '/content/drive/MyDrive/dataset/mydog/ddangkong11.jpg'\n",
        "\n",
        "# 이미지를 모델이 예측하도록 준비합니다.\n",
        "test_image = image.load_img(image_path, target_size=(64, 64))\n",
        "test_image = image.img_to_array(test_image)\n",
        "test_image = np.expand_dims(test_image, axis=0)\n",
        "test_image = test_image / 255.0  # 이미지를 정규화합니다.\n",
        "\n",
        "# 이미지를 모델로 예측합니다.\n",
        "result = classifier.predict(test_image)\n",
        "if result[0][0] == 1:\n",
        "    prediction = '개입니다.'\n",
        "else:\n",
        "    prediction = '고양이입니다.'\n",
        "\n",
        "# 이미지 로드\n",
        "img = Image.open(image_path)\n",
        "\n",
        "# 이미지 표시\n",
        "plt.figure(figsize=(8, 8))\n",
        "plt.imshow(img)\n",
        "plt.axis('off')  # 축 제거\n",
        "plt.tight_layout()  # 간격 조절\n",
        "plt.show()\n",
        "\n",
        "# 예측 결과를 출력합니다.\n",
        "print('예측 결과:', prediction)\n"
      ]
    },
    {
      "cell_type": "code",
      "execution_count": null,
      "metadata": {
        "colab": {
          "base_uri": "https://localhost:8080/",
          "height": 649
        },
        "id": "3sUIKK9u7O_W",
        "outputId": "ef45bdb4-aca8-4c43-c990-535db87d324c"
      },
      "outputs": [],
      "source": [
        "# FIN\n",
        "from PIL import Image\n",
        "import numpy as np\n",
        "import matplotlib.pyplot as plt\n",
        "\n",
        "# 사용자가 제공한 이미지 파일 경로를 지정합니다.\n",
        "image_path = '/content/drive/MyDrive/dataset/mydog/ddangkong13.jpg'\n",
        "\n",
        "# 이미지를 모델이 예측하도록 준비합니다.\n",
        "test_image = image.load_img(image_path, target_size=(64, 64))\n",
        "test_image = image.img_to_array(test_image)\n",
        "test_image = np.expand_dims(test_image, axis=0)\n",
        "test_image = test_image / 255.0  # 이미지를 정규화합니다.\n",
        "\n",
        "# 이미지를 모델로 예측합니다.\n",
        "result = classifier.predict(test_image)\n",
        "if result[0][0] == 1:\n",
        "    prediction = '개입니다.'\n",
        "else:\n",
        "    prediction = '고양이입니다.'\n",
        "\n",
        "# 이미지 로드\n",
        "img = Image.open(image_path)\n",
        "\n",
        "# 이미지 표시\n",
        "plt.figure(figsize=(8, 8))\n",
        "plt.imshow(img)\n",
        "plt.axis('off')  # 축 제거\n",
        "plt.tight_layout()  # 간격 조절\n",
        "plt.show()\n",
        "\n",
        "# 예측 결과를 출력합니다.\n",
        "print('예측 결과:', prediction)\n"
      ]
    },
    {
      "cell_type": "code",
      "execution_count": null,
      "metadata": {
        "colab": {
          "base_uri": "https://localhost:8080/",
          "height": 649
        },
        "id": "Q1yt-vPb7P0O",
        "outputId": "c302273b-570c-409b-8e48-d4ca8712f423"
      },
      "outputs": [],
      "source": [
        "# FIN\n",
        "from PIL import Image\n",
        "import numpy as np\n",
        "import matplotlib.pyplot as plt\n",
        "\n",
        "# 사용자가 제공한 이미지 파일 경로를 지정합니다.\n",
        "image_path = '/content/drive/MyDrive/dataset/mydog/ddangkong24.jpg'\n",
        "\n",
        "# 이미지를 모델이 예측하도록 준비합니다.\n",
        "test_image = image.load_img(image_path, target_size=(64, 64))\n",
        "test_image = image.img_to_array(test_image)\n",
        "test_image = np.expand_dims(test_image, axis=0)\n",
        "test_image = test_image / 255.0  # 이미지를 정규화합니다.\n",
        "\n",
        "# 이미지를 모델로 예측합니다.\n",
        "result = classifier.predict(test_image)\n",
        "if result[0][0] == 1:\n",
        "    prediction = '개입니다.'\n",
        "else:\n",
        "    prediction = '고양이입니다.'\n",
        "\n",
        "# 이미지 로드\n",
        "img = Image.open(image_path)\n",
        "\n",
        "# 이미지 표시\n",
        "plt.figure(figsize=(8, 8))\n",
        "plt.imshow(img)\n",
        "plt.axis('off')  # 축 제거\n",
        "plt.tight_layout()  # 간격 조절\n",
        "plt.show()\n",
        "\n",
        "# 예측 결과를 출력합니다.\n",
        "print('예측 결과:', prediction)\n"
      ]
    },
    {
      "cell_type": "code",
      "execution_count": null,
      "metadata": {
        "colab": {
          "base_uri": "https://localhost:8080/",
          "height": 649
        },
        "id": "GEStNzsL7P_U",
        "outputId": "8db0d4dd-1d8a-4dfb-e6bb-fa9be459b0ca"
      },
      "outputs": [],
      "source": [
        "# FIN\n",
        "from PIL import Image\n",
        "import numpy as np\n",
        "import matplotlib.pyplot as plt\n",
        "\n",
        "# 사용자가 제공한 이미지 파일 경로를 지정합니다.\n",
        "image_path = '/content/drive/MyDrive/dataset/mydog/ddangkong49.jpg'\n",
        "\n",
        "# 이미지를 모델이 예측하도록 준비합니다.\n",
        "test_image = image.load_img(image_path, target_size=(64, 64))\n",
        "test_image = image.img_to_array(test_image)\n",
        "test_image = np.expand_dims(test_image, axis=0)\n",
        "test_image = test_image / 255.0  # 이미지를 정규화합니다.\n",
        "\n",
        "# 이미지를 모델로 예측합니다.\n",
        "result = classifier.predict(test_image)\n",
        "if result[0][0] == 1:\n",
        "    prediction = '개입니다.'\n",
        "else:\n",
        "    prediction = '고양이입니다.'\n",
        "\n",
        "# 이미지 로드\n",
        "img = Image.open(image_path)\n",
        "\n",
        "# 이미지 표시\n",
        "plt.figure(figsize=(8, 8))\n",
        "plt.imshow(img)\n",
        "plt.axis('off')  # 축 제거\n",
        "plt.tight_layout()  # 간격 조절\n",
        "plt.show()\n",
        "\n",
        "# 예측 결과를 출력합니다.\n",
        "print('예측 결과:', prediction)\n"
      ]
    },
    {
      "cell_type": "code",
      "execution_count": null,
      "metadata": {
        "colab": {
          "base_uri": "https://localhost:8080/",
          "height": 505
        },
        "id": "LL4dGR987QJs",
        "outputId": "d9cb6ed1-e4d7-45fb-eda1-e41aa53e3088"
      },
      "outputs": [],
      "source": [
        "# FIN\n",
        "from PIL import Image\n",
        "import numpy as np\n",
        "import matplotlib.pyplot as plt\n",
        "\n",
        "# 사용자가 제공한 이미지 파일 경로를 지정합니다.\n",
        "image_path = '/content/drive/MyDrive/dataset/mydog/ddangkong54.jpg'\n",
        "\n",
        "# 이미지를 모델이 예측하도록 준비합니다.\n",
        "test_image = image.load_img(image_path, target_size=(64, 64))\n",
        "test_image = image.img_to_array(test_image)\n",
        "test_image = np.expand_dims(test_image, axis=0)\n",
        "test_image = test_image / 255.0  # 이미지를 정규화합니다.\n",
        "\n",
        "# 이미지를 모델로 예측합니다.\n",
        "result = classifier.predict(test_image)\n",
        "if result[0][0] == 1:\n",
        "    prediction = '개입니다.'\n",
        "else:\n",
        "    prediction = '고양이입니다.'\n",
        "\n",
        "# 이미지 로드\n",
        "img = Image.open(image_path)\n",
        "\n",
        "# 이미지 표시\n",
        "plt.figure(figsize=(8, 8))\n",
        "plt.imshow(img)\n",
        "plt.axis('off')  # 축 제거\n",
        "plt.tight_layout()  # 간격 조절\n",
        "plt.show()\n",
        "\n",
        "# 예측 결과를 출력합니다.\n",
        "print('예측 결과:', prediction)\n"
      ]
    },
    {
      "cell_type": "code",
      "execution_count": null,
      "metadata": {
        "colab": {
          "base_uri": "https://localhost:8080/",
          "height": 505
        },
        "id": "8amctIDp7Qdj",
        "outputId": "0ea096bd-403c-4bc6-8599-6c8c35fcfa37"
      },
      "outputs": [],
      "source": [
        "# FIN\n",
        "from PIL import Image\n",
        "import numpy as np\n",
        "import matplotlib.pyplot as plt\n",
        "\n",
        "# 사용자가 제공한 이미지 파일 경로를 지정합니다.\n",
        "image_path = '/content/drive/MyDrive/dataset/mydog/ddangkong97.jpg'\n",
        "\n",
        "# 이미지를 모델이 예측하도록 준비합니다.\n",
        "test_image = image.load_img(image_path, target_size=(64, 64))\n",
        "test_image = image.img_to_array(test_image)\n",
        "test_image = np.expand_dims(test_image, axis=0)\n",
        "test_image = test_image / 255.0  # 이미지를 정규화합니다.\n",
        "\n",
        "# 이미지를 모델로 예측합니다.\n",
        "result = classifier.predict(test_image)\n",
        "if result[0][0] == 1:\n",
        "    prediction = '개입니다.'\n",
        "else:\n",
        "    prediction = '고양이입니다.'\n",
        "\n",
        "# 이미지 로드\n",
        "img = Image.open(image_path)\n",
        "\n",
        "# 이미지 표시\n",
        "plt.figure(figsize=(8, 8))\n",
        "plt.imshow(img)\n",
        "plt.axis('off')  # 축 제거\n",
        "plt.tight_layout()  # 간격 조절\n",
        "plt.show()\n",
        "\n",
        "# 예측 결과를 출력합니다.\n",
        "print('예측 결과:', prediction)\n"
      ]
    },
    {
      "cell_type": "code",
      "execution_count": null,
      "metadata": {
        "colab": {
          "base_uri": "https://localhost:8080/",
          "height": 505
        },
        "id": "jKZ2uJ5i7Qox",
        "outputId": "392ab3a5-7105-4443-b1ad-efa0931e3980"
      },
      "outputs": [],
      "source": [
        "# FIN\n",
        "from PIL import Image\n",
        "import numpy as np\n",
        "import matplotlib.pyplot as plt\n",
        "\n",
        "# 사용자가 제공한 이미지 파일 경로를 지정합니다.\n",
        "image_path = '/content/drive/MyDrive/dataset/mydog/ddangkong99.jpg'\n",
        "\n",
        "# 이미지를 모델이 예측하도록 준비합니다.\n",
        "test_image = image.load_img(image_path, target_size=(64, 64))\n",
        "test_image = image.img_to_array(test_image)\n",
        "test_image = np.expand_dims(test_image, axis=0)\n",
        "test_image = test_image / 255.0  # 이미지를 정규화합니다.\n",
        "\n",
        "# 이미지를 모델로 예측합니다.\n",
        "result = classifier.predict(test_image)\n",
        "if result[0][0] == 1:\n",
        "    prediction = '개입니다.'\n",
        "else:\n",
        "    prediction = '고양이입니다.'\n",
        "\n",
        "# 이미지 로드\n",
        "img = Image.open(image_path)\n",
        "\n",
        "# 이미지 표시\n",
        "plt.figure(figsize=(8, 8))\n",
        "plt.imshow(img)\n",
        "plt.axis('off')  # 축 제거\n",
        "plt.tight_layout()  # 간격 조절\n",
        "plt.show()\n",
        "\n",
        "# 예측 결과를 출력합니다.\n",
        "print('예측 결과:', prediction)\n"
      ]
    },
    {
      "cell_type": "code",
      "execution_count": null,
      "metadata": {
        "colab": {
          "base_uri": "https://localhost:8080/",
          "height": 505
        },
        "id": "71Hiflyi7Qzn",
        "outputId": "09c701e2-b1ce-408a-9163-c90dc07e06db"
      },
      "outputs": [],
      "source": [
        "# FIN\n",
        "from PIL import Image\n",
        "import numpy as np\n",
        "import matplotlib.pyplot as plt\n",
        "\n",
        "# 사용자가 제공한 이미지 파일 경로를 지정합니다.\n",
        "image_path = '/content/drive/MyDrive/dataset/mydog/ddangkong102.jpg'\n",
        "\n",
        "# 이미지를 모델이 예측하도록 준비합니다.\n",
        "test_image = image.load_img(image_path, target_size=(64, 64))\n",
        "test_image = image.img_to_array(test_image)\n",
        "test_image = np.expand_dims(test_image, axis=0)\n",
        "test_image = test_image / 255.0  # 이미지를 정규화합니다.\n",
        "\n",
        "# 이미지를 모델로 예측합니다.\n",
        "result = classifier.predict(test_image)\n",
        "if result[0][0] == 1:\n",
        "    prediction = '개입니다.'\n",
        "else:\n",
        "    prediction = '고양이입니다.'\n",
        "\n",
        "# 이미지 로드\n",
        "img = Image.open(image_path)\n",
        "\n",
        "# 이미지 표시\n",
        "plt.figure(figsize=(8, 8))\n",
        "plt.imshow(img)\n",
        "plt.axis('off')  # 축 제거\n",
        "plt.tight_layout()  # 간격 조절\n",
        "plt.show()\n",
        "\n",
        "# 예측 결과를 출력합니다.\n",
        "print('예측 결과:', prediction)\n"
      ]
    },
    {
      "cell_type": "code",
      "execution_count": null,
      "metadata": {
        "colab": {
          "base_uri": "https://localhost:8080/",
          "height": 649
        },
        "id": "p_DX9v4H7Q-e",
        "outputId": "9e4dffd9-fcbb-4c95-823d-eb723547aa36"
      },
      "outputs": [],
      "source": [
        "# FIN\n",
        "from PIL import Image\n",
        "import numpy as np\n",
        "import matplotlib.pyplot as plt\n",
        "\n",
        "# 사용자가 제공한 이미지 파일 경로를 지정합니다.\n",
        "image_path = '/content/drive/MyDrive/dataset/mydog/ddangkong112.jpg'\n",
        "\n",
        "# 이미지를 모델이 예측하도록 준비합니다.\n",
        "test_image = image.load_img(image_path, target_size=(64, 64))\n",
        "test_image = image.img_to_array(test_image)\n",
        "test_image = np.expand_dims(test_image, axis=0)\n",
        "test_image = test_image / 255.0  # 이미지를 정규화합니다.\n",
        "\n",
        "# 이미지를 모델로 예측합니다.\n",
        "result = classifier.predict(test_image)\n",
        "if result[0][0] == 1:\n",
        "    prediction = '개입니다.'\n",
        "else:\n",
        "    prediction = '고양이입니다.'\n",
        "\n",
        "# 이미지 로드\n",
        "img = Image.open(image_path)\n",
        "\n",
        "# 이미지 표시\n",
        "plt.figure(figsize=(8, 8))\n",
        "plt.imshow(img)\n",
        "plt.axis('off')  # 축 제거\n",
        "plt.tight_layout()  # 간격 조절\n",
        "plt.show()\n",
        "\n",
        "# 예측 결과를 출력합니다.\n",
        "print('예측 결과:', prediction)\n"
      ]
    },
    {
      "cell_type": "code",
      "execution_count": null,
      "metadata": {
        "colab": {
          "base_uri": "https://localhost:8080/",
          "height": 649
        },
        "id": "kjBX-wZx7RGc",
        "outputId": "5116c017-48c1-4d95-e213-1572d4eeadd7"
      },
      "outputs": [],
      "source": [
        "# FIN\n",
        "from PIL import Image\n",
        "import numpy as np\n",
        "import matplotlib.pyplot as plt\n",
        "\n",
        "# 사용자가 제공한 이미지 파일 경로를 지정합니다.\n",
        "image_path = '/content/drive/MyDrive/dataset/mydog/ddangkong116.jpg'\n",
        "\n",
        "# 이미지를 모델이 예측하도록 준비합니다.\n",
        "test_image = image.load_img(image_path, target_size=(64, 64))\n",
        "test_image = image.img_to_array(test_image)\n",
        "test_image = np.expand_dims(test_image, axis=0)\n",
        "test_image = test_image / 255.0  # 이미지를 정규화합니다.\n",
        "\n",
        "# 이미지를 모델로 예측합니다.\n",
        "result = classifier.predict(test_image)\n",
        "if result[0][0] == 1:\n",
        "    prediction = '개입니다.'\n",
        "else:\n",
        "    prediction = '고양이입니다.'\n",
        "\n",
        "# 이미지 로드\n",
        "img = Image.open(image_path)\n",
        "\n",
        "# 이미지 표시\n",
        "plt.figure(figsize=(8, 8))\n",
        "plt.imshow(img)\n",
        "plt.axis('off')  # 축 제거\n",
        "plt.tight_layout()  # 간격 조절\n",
        "plt.show()\n",
        "\n",
        "# 예측 결과를 출력합니다.\n",
        "print('예측 결과:', prediction)\n"
      ]
    }
  ],
  "metadata": {
    "accelerator": "GPU",
    "colab": {
      "gpuType": "V100",
      "machine_shape": "hm",
      "provenance": []
    },
    "kernelspec": {
      "display_name": "Python 3",
      "name": "python3"
    },
    "language_info": {
      "name": "python"
    }
  },
  "nbformat": 4,
  "nbformat_minor": 0
}
